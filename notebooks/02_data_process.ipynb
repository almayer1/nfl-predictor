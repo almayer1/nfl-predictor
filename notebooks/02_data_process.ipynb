{
 "cells": [
  {
   "cell_type": "code",
   "execution_count": 9,
   "id": "a5a985d0-0289-4c6b-ba43-4c74711f11d9",
   "metadata": {},
   "outputs": [],
   "source": [
    "import pandas as pd\n",
    "\n",
    "df = pd.read_csv('../data/raw/nfl_2024_games.csv', parse_dates=['gameday'])\n",
    "\n",
    "df = df.rename(columns={\n",
    "    'gameday':    'date',\n",
    "    'home_score': 'home_pts',\n",
    "    'away_score': 'away_pts'\n",
    "})[[\n",
    "    'date',\n",
    "    'home_team',\n",
    "    'away_team',\n",
    "    'home_pts',\n",
    "    'away_pts'\n",
    "]]\n",
    "\n",
    "df['point_diff'] = df.home_pts - df.away_pts\n",
    "\n",
    "df.to_csv('../data/processed/nfl_2024_games.csv', index=False)"
   ]
  },
  {
   "cell_type": "code",
   "execution_count": null,
   "id": "c4bc29bd-b146-4d77-97f4-11e5bf4f3286",
   "metadata": {},
   "outputs": [],
   "source": []
  }
 ],
 "metadata": {
  "kernelspec": {
   "display_name": "Python 3 (ipykernel)",
   "language": "python",
   "name": "python3"
  },
  "language_info": {
   "codemirror_mode": {
    "name": "ipython",
    "version": 3
   },
   "file_extension": ".py",
   "mimetype": "text/x-python",
   "name": "python",
   "nbconvert_exporter": "python",
   "pygments_lexer": "ipython3",
   "version": "3.9.6"
  }
 },
 "nbformat": 4,
 "nbformat_minor": 5
}
